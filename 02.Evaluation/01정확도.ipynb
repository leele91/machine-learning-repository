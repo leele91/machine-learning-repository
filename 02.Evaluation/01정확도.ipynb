{
 "metadata": {
  "language_info": {
   "codemirror_mode": {
    "name": "ipython",
    "version": 3
   },
   "file_extension": ".py",
   "mimetype": "text/x-python",
   "name": "python",
   "nbconvert_exporter": "python",
   "pygments_lexer": "ipython3",
   "version": "3.8.3-final"
  },
  "orig_nbformat": 2,
  "kernelspec": {
   "name": "python3",
   "display_name": "Python 3",
   "language": "python"
  }
 },
 "nbformat": 4,
 "nbformat_minor": 2,
 "cells": [
  {
   "source": [
    "# 평가(Evaluation)"
   ],
   "cell_type": "markdown",
   "metadata": {}
  },
  {
   "source": [
    "## 정확도(Accuracy)"
   ],
   "cell_type": "markdown",
   "metadata": {}
  },
  {
   "source": [
    "### Titanic 엉터리 분류기"
   ],
   "cell_type": "markdown",
   "metadata": {}
  },
  {
   "cell_type": "code",
   "execution_count": 1,
   "metadata": {},
   "outputs": [],
   "source": [
    "import numpy as np\n",
    "from sklearn.base import BaseEstimator"
   ]
  },
  {
   "source": [
    "#### 타이타닉 데이터 갯수 891 컬럼갯수가 만약 10일때\n",
    "\n",
    "pred = dt_clf(X_test)\n",
    "891, 10     train    600, 10\n",
    "            test     291, 10"
   ],
   "cell_type": "markdown",
   "metadata": {}
  },
  {
   "cell_type": "code",
   "execution_count": 2,
   "metadata": {},
   "outputs": [
    {
     "output_type": "execute_result",
     "data": {
      "text/plain": [
       "' X = np.ones((10, 5))\\nX.shape[0] '"
      ]
     },
     "metadata": {},
     "execution_count": 2
    }
   ],
   "source": [
    "\"\"\" X = np.ones((10, 5))\n",
    "X.shape[0] \"\"\""
   ]
  },
  {
   "cell_type": "code",
   "execution_count": 3,
   "metadata": {},
   "outputs": [
    {
     "output_type": "execute_result",
     "data": {
      "text/plain": [
       "' X = np.zeros((10, 1))\\nX '"
      ]
     },
     "metadata": {},
     "execution_count": 3
    }
   ],
   "source": [
    "\"\"\" X = np.zeros((10, 1))\n",
    "X \"\"\""
   ]
  },
  {
   "cell_type": "code",
   "execution_count": 4,
   "metadata": {},
   "outputs": [],
   "source": [
    "class MyDummyClassifier(BaseEstimator):\n",
    "    # fit(), predict() method만 재정의(overriding)\n",
    "    def fit(self, X, y):#클레스의 메소드는 앞에 self가 들어와야함\n",
    "        pass\n",
    "    def predict(self, X): # 만들때 아규먼트 받음 /X는 데이터 프레임으로 들어옴\n",
    "        pred = np.zeros((X.shape[0], 1)) # shape대신 랭스를 써도 무관\n",
    "        for i in range(X.shape[0]):\n",
    "            if X['Sex'].iloc[i] == 0: # 칼럼이 x/ 여성인 경우\n",
    "                pred[i, 0] = 1 # pred값을 1로 바꿔주고 남성이면 패스\n",
    "        return pred"
   ]
  },
  {
   "source": [
    "#### 전처리를 하지 않고 실행하는 경우"
   ],
   "cell_type": "markdown",
   "metadata": {}
  },
  {
   "cell_type": "code",
   "execution_count": 5,
   "metadata": {},
   "outputs": [],
   "source": [
    "import pandas as pd\n",
    "titanic_df = pd.read_csv('../00.data/titanic/train.csv')\n",
    "y_titanic_df = titanic_df['Survived']\n",
    "X_titanic_df = titanic_df.drop('Survived', axis=1)"
   ]
  },
  {
   "cell_type": "code",
   "execution_count": 6,
   "metadata": {},
   "outputs": [],
   "source": [
    "from sklearn.model_selection import train_test_split\n",
    "X_train, X_test, y_train, y_test=train_test_split(\n",
    "    X_titanic_df, y_titanic_df, test_size=0.2, random_state=11\n",
    ")"
   ]
  },
  {
   "cell_type": "code",
   "execution_count": 7,
   "metadata": {},
   "outputs": [],
   "source": [
    "my_clf = MyDummyClassifier()\n",
    "my_clf.fit(X_train, y_train)\n",
    "my_pred = my_clf.predict(X_test)"
   ]
  },
  {
   "cell_type": "code",
   "execution_count": 8,
   "metadata": {},
   "outputs": [
    {
     "output_type": "execute_result",
     "data": {
      "text/plain": [
       "0.659217877094972"
      ]
     },
     "metadata": {},
     "execution_count": 8
    }
   ],
   "source": [
    "from sklearn.metrics import accuracy_score\n",
    "accuracy_score(y_test, my_pred)"
   ]
  },
  {
   "source": [
    "### 전처리를 수행한 후 실행하는 경우"
   ],
   "cell_type": "markdown",
   "metadata": {}
  },
  {
   "cell_type": "code",
   "execution_count": 9,
   "metadata": {},
   "outputs": [],
   "source": [
    "from sklearn.preprocessing import LabelEncoder\n",
    "\n",
    "# Null 처리 함수\n",
    "def fillna(df):\n",
    "    df['Age'].fillna(df['Age'].mean(), inplace=True)\n",
    "    df['Cabin'].fillna('N', inplace=True)\n",
    "    df['Embarked'].fillna('N', inplace=True)\n",
    "    df['Fare'].fillna(0, inplace=True)\n",
    "    return df\n",
    "\n",
    "# 머신러닝 알고리즘에 불필요한 속성 제거\n",
    "def drop_features(df):\n",
    "    df.drop(['PassengerId','Name','Ticket'], axis=1, inplace=True)\n",
    "    return df\n",
    "\n",
    "# 레이블 인코딩 수행. \n",
    "def format_features(df):\n",
    "    df['Cabin'] = df['Cabin'].str[:1]\n",
    "    features = ['Cabin', 'Sex', 'Embarked']\n",
    "    for feature in features:\n",
    "        le = LabelEncoder()\n",
    "        df[feature] = le.fit_transform(df[feature])\n",
    "    return df\n",
    "\n",
    "# 앞에서 설정한 Data Preprocessing 함수 호출\n",
    "def transform_features(df):\n",
    "    df = fillna(df)\n",
    "    df = drop_features(df)\n",
    "    df = format_features(df)\n",
    "    return df"
   ]
  },
  {
   "cell_type": "code",
   "execution_count": 10,
   "metadata": {},
   "outputs": [],
   "source": [
    "import pandas as pd\n",
    "\n",
    "titanic_df = pd.read_csv('../00.data/titanic/train.csv')\n",
    "y_titanic_df = titanic_df['Survived']\n",
    "X_titanic_df = titanic_df.drop('Survived', axis=1)\n",
    "X_titanic_df = transform_features(X_titanic_df)"
   ]
  },
  {
   "cell_type": "code",
   "execution_count": 11,
   "metadata": {},
   "outputs": [],
   "source": [
    "from sklearn.model_selection import train_test_split\n",
    "X_train, X_test, y_train, y_test=train_test_split(\n",
    "    X_titanic_df, y_titanic_df, test_size=0.2, random_state=11\n",
    ")"
   ]
  },
  {
   "cell_type": "code",
   "execution_count": 12,
   "metadata": {},
   "outputs": [],
   "source": [
    "my_clf = MyDummyClassifier()\n",
    "my_clf.fit(X_train, y_train)\n",
    "my_pred = my_clf.predict(X_test)"
   ]
  },
  {
   "cell_type": "code",
   "execution_count": 13,
   "metadata": {},
   "outputs": [
    {
     "output_type": "stream",
     "name": "stdout",
     "text": [
      "Dummy Classifier의 정확도: 0.8324\n"
     ]
    }
   ],
   "source": [
    "from sklearn.metrics import accuracy_score\n",
    "print(f'Dummy Classifier의 정확도: {accuracy_score(y_test, my_pred):.4f}')"
   ]
  },
  {
   "source": [
    "### MyFakeClassifier"
   ],
   "cell_type": "markdown",
   "metadata": {}
  },
  {
   "source": [
    "### MNIST 손글씨 \"Is it seven?\""
   ],
   "cell_type": "markdown",
   "metadata": {}
  },
  {
   "cell_type": "code",
   "execution_count": 14,
   "metadata": {},
   "outputs": [],
   "source": [
    "from sklearn.datasets import load_digits\n",
    "\n",
    "class MyDummyClassifier(BaseEstimator):\n",
    "    # fit(), predict() method만 재정의(overriding)\n",
    "    def fit(self, X, y):#클레스의 메소드는 앞에 self가 들어와야함\n",
    "        pass\n",
    "\n",
    "    # 입력값으로 들어오는 X데이터 셋의 크기만큼 모두 0값으로 만들어서 반환\n",
    "    def predict(self, X): # 만들때 아규먼트 받음 /X는 데이터 프레임으로 들어옴\n",
    "        return np.zeros((len(X), 1), dtype=bool)\n"
   ]
  },
  {
   "cell_type": "code",
   "execution_count": 15,
   "metadata": {},
   "outputs": [],
   "source": [
    "from sklearn.datasets import load_digits\n",
    "\n",
    "# 사이킷런의 내장 데이터 셋인 load_digits( )를 이용하여 MNIST 데이터 로딩\n",
    "digits = load_digits()\n",
    "\n",
    "# digits번호가 7번이면 True 이고 이를 astype(int)로 1로 변환,\n",
    "# 7번이 아니면 False 이고 0으로 변환.\n",
    "y = (digits.target == 7).astype(int)\n",
    "X_train, X_test, y_train, y_test = train_test_split(digits.data, y, random_state=11)"
   ]
  },
  {
   "cell_type": "code",
   "execution_count": 16,
   "metadata": {},
   "outputs": [
    {
     "output_type": "stream",
     "name": "stdout",
     "text": [
      "레이블 테스트 세트 크기 : (450,)\n테스트 세트 레이블 0과 1의 분포도\n0    405\n1     45\ndtype: int64\n"
     ]
    }
   ],
   "source": [
    "# 불균형한 레이블 데이터 분포도 확인.\n",
    "print('레이블 테스트 세트 크기 :', y_test.shape)\n",
    "print('테스트 세트 레이블 0과 1의 분포도')\n",
    "print(pd.Series(y_test).value_counts())"
   ]
  },
  {
   "cell_type": "code",
   "execution_count": 17,
   "metadata": {},
   "outputs": [
    {
     "output_type": "stream",
     "name": "stdout",
     "text": [
      "모든 예측을 0으로 하여도 정확도는 :0.900\n"
     ]
    }
   ],
   "source": [
    "# Fake Classifier 로 학습/예습/ 정확도 평가\n",
    "fakeclf = MyDummyClassifier()\n",
    "fakeclf.fit(X_train, y_train)\n",
    "fakepred = fakeclf.predict(X_test)\n",
    "score = accuracy_score(y_test, fakepred)\n",
    "print(f'모든 예측을 0으로 하여도 정확도는 :{score:.3f}')\n"
   ]
  },
  {
   "source": [
    "# 오차 행렬(Confusion Matrix)"
   ],
   "cell_type": "markdown",
   "metadata": {}
  },
  {
   "source": [
    "### MyFakeClassifier 사례"
   ],
   "cell_type": "markdown",
   "metadata": {}
  },
  {
   "cell_type": "code",
   "execution_count": 18,
   "metadata": {},
   "outputs": [
    {
     "output_type": "execute_result",
     "data": {
      "text/plain": [
       "array([[405,   0],\n",
       "       [ 45,   0]], dtype=int64)"
      ]
     },
     "metadata": {},
     "execution_count": 18
    }
   ],
   "source": [
    "from sklearn.metrics import confusion_matrix\n",
    "\n",
    "confusion_matrix(y_test, fakepred)"
   ]
  },
  {
   "source": [
    "### 정밀도(Precision)와 재현율(Recall)"
   ],
   "cell_type": "markdown",
   "metadata": {}
  },
  {
   "cell_type": "code",
   "execution_count": 19,
   "metadata": {},
   "outputs": [],
   "source": [
    "from sklearn.metrics import precision_score, recall_score, f1_score #  precision_score(정밀도), recall_score(재현율)\n",
    "\n",
    "def get_clf_eval(y_test, pred):\n",
    "    confusion = confusion_matrix(y_test, pred)\n",
    "    accuracy = accuracy_score(y_test, pred)\n",
    "    precision = precision_score(y_test, pred)\n",
    "    recall = recall_score(y_test, pred)\n",
    "    f1 = f1_score(y_test, pred)\n",
    "    print('오차 행렬')\n",
    "    print(confusion)\n",
    "    print(f'정확도: {accuracy:.4f}, 정밀도: {precision:.4f}, 재현율: {recall:.4f}, F1 스코어: {f1:.4f}')"
   ]
  },
  {
   "cell_type": "code",
   "execution_count": 20,
   "metadata": {},
   "outputs": [],
   "source": [
    "titanic_df = pd.read_csv('../00.data/titanic/train.csv')\n",
    "y_titanic_df = titanic_df['Survived']\n",
    "X_titanic_df = titanic_df.drop('Survived', axis=1)\n",
    "X_titanic_df = transform_features(X_titanic_df)\n",
    "X_train, X_test, y_train, y_test = train_test_split(\n",
    "    X_titanic_df, y_titanic_df, test_size=0.2, random_state=11\n",
    ")"
   ]
  },
  {
   "source": [
    "### LogisticRegression(로지스틱 회귀) 학습/예측/평가"
   ],
   "cell_type": "markdown",
   "metadata": {}
  },
  {
   "cell_type": "code",
   "execution_count": 21,
   "metadata": {},
   "outputs": [
    {
     "output_type": "stream",
     "name": "stdout",
     "text": [
      "오차 행렬\n[[104  14]\n [ 13  48]]\n정확도: 0.8492, 정밀도: 0.7742, 재현율: 0.7869, F1 스코어: 0.7805\n"
     ]
    }
   ],
   "source": [
    "from sklearn.linear_model import LogisticRegression\n",
    "\n",
    "lr_clf = LogisticRegression()\n",
    "lr_clf.fit(X_train, y_train)\n",
    "pred = lr_clf.predict(X_test)\n",
    "get_clf_eval(y_test, pred)"
   ]
  },
  {
   "source": [
    "### Precision/Recall Trade-off"
   ],
   "cell_type": "markdown",
   "metadata": {}
  },
  {
   "cell_type": "code",
   "execution_count": 22,
   "metadata": {},
   "outputs": [
    {
     "output_type": "execute_result",
     "data": {
      "text/plain": [
       "array([[0.4616653 , 0.5383347 ],\n",
       "       [0.87862763, 0.12137237],\n",
       "       [0.87727002, 0.12272998],\n",
       "       [0.88283621, 0.11716379],\n",
       "       [0.85508952, 0.14491048],\n",
       "       [0.88231157, 0.11768843],\n",
       "       [0.88838988, 0.11161012],\n",
       "       [0.20916926, 0.79083074],\n",
       "       [0.78258628, 0.21741372],\n",
       "       [0.36993909, 0.63006091]])"
      ]
     },
     "metadata": {},
     "execution_count": 22
    }
   ],
   "source": [
    "pred_proba = lr_clf.predict_proba(X_test) \n",
    "pred_proba[:10, :] # 0될 확률 , 1 될 확률"
   ]
  },
  {
   "cell_type": "code",
   "execution_count": 23,
   "metadata": {},
   "outputs": [
    {
     "output_type": "execute_result",
     "data": {
      "text/plain": [
       "array([1, 0, 0, 0, 0, 0, 0, 1, 0, 1], dtype=int64)"
      ]
     },
     "metadata": {},
     "execution_count": 23
    }
   ],
   "source": [
    "pred[:10]"
   ]
  },
  {
   "cell_type": "code",
   "execution_count": 24,
   "metadata": {},
   "outputs": [
    {
     "output_type": "stream",
     "name": "stdout",
     "text": [
      "[[0. 0. 1.]\n [1. 0. 0.]\n [0. 0. 1.]]\n"
     ]
    }
   ],
   "source": [
    "from sklearn.preprocessing import Binarizer\n",
    "\n",
    "X = [[ 1, -1,  2],\n",
    "     [ 2,  0,  0],\n",
    "     [ 0,  1.1, 1.2]]\n",
    "\n",
    "# threshold 기준값보다 같거나 작으면 0을, 크면 1을 반환\n",
    "binarizer = Binarizer(threshold=1.1)                     \n",
    "print(binarizer.fit_transform(X))"
   ]
  },
  {
   "cell_type": "code",
   "execution_count": 25,
   "metadata": {},
   "outputs": [
    {
     "output_type": "stream",
     "name": "stdout",
     "text": [
      "[[0. 0. 1.]\n [1. 0. 0.]\n [0. 1. 1.]]\n"
     ]
    }
   ],
   "source": [
    "binarizer = Binarizer(threshold=1)                     \n",
    "print(binarizer.fit_transform(X))"
   ]
  },
  {
   "cell_type": "code",
   "execution_count": 26,
   "metadata": {},
   "outputs": [
    {
     "output_type": "stream",
     "name": "stdout",
     "text": [
      "오차 행렬\n[[104  14]\n [ 13  48]]\n정확도: 0.8492, 정밀도: 0.7742, 재현율: 0.7869, F1 스코어: 0.7805\n"
     ]
    }
   ],
   "source": [
    "#Binarizer의 threshold 설정값. 분류 결정 임곗값임.  \n",
    "custom_threshold = 0.5\n",
    "\n",
    "# predict_proba( ) 반환값의 두번째 컬럼,\n",
    "# 즉 Positive 클래스 컬럼 하나만 추출하여 Binarizer를 적용\n",
    "pred_proba_1 = pred_proba[:,1].reshape(-1,1)\n",
    "\n",
    "binarizer = Binarizer(threshold=custom_threshold)\n",
    "custom_predict = binarizer.fit_transform(pred_proba_1)\n",
    "\n",
    "get_clf_eval(y_test, custom_predict)"
   ]
  },
  {
   "cell_type": "code",
   "execution_count": 27,
   "metadata": {},
   "outputs": [
    {
     "output_type": "stream",
     "name": "stdout",
     "text": [
      "오차 행렬\n[[99 19]\n [10 51]]\n정확도: 0.8380, 정밀도: 0.7286, 재현율: 0.8361, F1 스코어: 0.7786\n"
     ]
    }
   ],
   "source": [
    "# Binarizer의 threshold 설정값을 0.4로 설정.\n",
    "custom_threshold = 0.4\n",
    "pred_proba_1 = pred_proba[:,1].reshape(-1,1)\n",
    "\n",
    "binarizer = Binarizer(threshold=custom_threshold)\n",
    "custom_predict = binarizer.fit_transform(pred_proba_1)\n",
    "\n",
    "get_clf_eval(y_test, custom_predict)"
   ]
  },
  {
   "cell_type": "code",
   "execution_count": 28,
   "metadata": {},
   "outputs": [
    {
     "output_type": "stream",
     "name": "stdout",
     "text": [
      "오차 행렬\n[[116   2]\n [ 28  33]]\n정확도: 0.8324, 정밀도: 0.9429, 재현율: 0.5410, F1 스코어: 0.6875\n"
     ]
    }
   ],
   "source": [
    "# Binarizer의 threshold 설정값을 0.7으로 설정.\n",
    "custom_threshold = 0.7\n",
    "pred_proba_1 = pred_proba[:,1].reshape(-1,1)\n",
    "\n",
    "binarizer = Binarizer(threshold=custom_threshold)\n",
    "custom_predict = binarizer.fit_transform(pred_proba_1)\n",
    "\n",
    "get_clf_eval(y_test, custom_predict)"
   ]
  },
  {
   "source": [
    "## F1 스코어"
   ],
   "cell_type": "markdown",
   "metadata": {}
  },
  {
   "cell_type": "code",
   "execution_count": 29,
   "metadata": {},
   "outputs": [
    {
     "output_type": "stream",
     "name": "stdout",
     "text": [
      "F1 스코어: 0.7805\n"
     ]
    }
   ],
   "source": [
    "from sklearn.metrics import f1_score\n",
    "\n",
    "f1 = f1_score(y_test, pred)\n",
    "print(f'F1 스코어: {f1:.4f}')"
   ]
  },
  {
   "source": [
    "## ROC AUC 스코어"
   ],
   "cell_type": "markdown",
   "metadata": {}
  },
  {
   "cell_type": "code",
   "execution_count": 30,
   "metadata": {},
   "outputs": [
    {
     "output_type": "stream",
     "name": "stdout",
     "text": [
      "ROC AUC 스코어: 0.8341\n"
     ]
    }
   ],
   "source": [
    "from sklearn.metrics import roc_auc_score\n",
    "\n",
    "roc_auc = roc_auc_score(y_test, pred)\n",
    "print(f'ROC AUC 스코어: {roc_auc:.4f}')"
   ]
  },
  {
   "cell_type": "code",
   "execution_count": null,
   "metadata": {},
   "outputs": [],
   "source": []
  }
 ]
}