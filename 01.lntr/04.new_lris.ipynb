{
 "metadata": {
  "language_info": {
   "codemirror_mode": {
    "name": "ipython",
    "version": 3
   },
   "file_extension": ".py",
   "mimetype": "text/x-python",
   "name": "python",
   "nbconvert_exporter": "python",
   "pygments_lexer": "ipython3",
   "version": "3.8.3-final"
  },
  "orig_nbformat": 2,
  "kernelspec": {
   "name": "python3",
   "display_name": "Python 3",
   "language": "python"
  }
 },
 "nbformat": 4,
 "nbformat_minor": 2,
 "cells": [
  {
   "source": [
    "### 연습문제\n",
    "- Iris 데이터에 대해서\n",
    "- test 비율을 20%\n",
    "- one_hot encoding을 적용 -> 제외\n",
    "- min max scaler 을 사용\n",
    "- cv=5로\n",
    "- 결정트리 모델을 사용\n",
    "- 파라미터는 max_depth와 min_samples_leaf를 변화시켜 학습하고\n",
    "\n",
    "도출한 베스트 파라미터를 사용하여 테스트 데이터에 대해서 정확도를 측정"
   ],
   "cell_type": "markdown",
   "metadata": {}
  },
  {
   "cell_type": "code",
   "execution_count": 1,
   "metadata": {},
   "outputs": [],
   "source": [
    "# 데이터 가져오기\n",
    "from sklearn.datasets import load_iris\n",
    "iris = load_iris()"
   ]
  },
  {
   "cell_type": "code",
   "execution_count": 2,
   "metadata": {},
   "outputs": [
    {
     "output_type": "execute_result",
     "data": {
      "text/plain": [
       "(150, 4)"
      ]
     },
     "metadata": {},
     "execution_count": 2
    }
   ],
   "source": [
    "# min max scaler 적용\n",
    "from sklearn.preprocessing import MinMaxScaler\n",
    "scaler = MinMaxScaler()\n",
    "scaler_iris = scaler.fit_transform(iris.data) # X값에 대해서 데이터 적용\n",
    "scaler_iris.shape"
   ]
  },
  {
   "cell_type": "code",
   "execution_count": 3,
   "metadata": {},
   "outputs": [
    {
     "output_type": "execute_result",
     "data": {
      "text/plain": [
       "' # one_hot encoding을 적용\\nfrom sklearn.preprocessing import OneHotEncoder\\nencoder = OneHotEncoder()\\nencoder_iris = encoder.fit_transform(iris.target.reshape(-1, 1))\\n# 결과값이 인코더를 fit_transform함 아이리스 타켓으로(단, reshape를 사용하여 꼭 2차원으로 만들어야함)\\nencoder_iris.shape '"
      ]
     },
     "metadata": {},
     "execution_count": 3
    }
   ],
   "source": [
    "\"\"\" # one_hot encoding을 적용\n",
    "from sklearn.preprocessing import OneHotEncoder\n",
    "encoder = OneHotEncoder()\n",
    "encoder_iris = encoder.fit_transform(iris.target.reshape(-1, 1))\n",
    "# 결과값이 인코더를 fit_transform함 아이리스 타켓으로(단, reshape를 사용하여 꼭 2차원으로 만들어야함)\n",
    "encoder_iris.shape \"\"\""
   ]
  },
  {
   "cell_type": "code",
   "execution_count": 4,
   "metadata": {},
   "outputs": [],
   "source": [
    "# test 비율을 20%\n",
    "from sklearn.model_selection import train_test_split\n",
    "X_train, X_test, y_train, y_test= train_test_split(\n",
    "    scaler_iris, iris.target, test_size = 0.2, random_state=2021\n",
    ") # 1차원일땐 y 2차원~ 3차원이면 Y 됨 / x데이터 , y데이터, test_size비율 20%"
   ]
  },
  {
   "cell_type": "code",
   "execution_count": 5,
   "metadata": {},
   "outputs": [],
   "source": [
    "# 결정트리 모델을 사용\n",
    "from sklearn.tree import DecisionTreeClassifier\n",
    "dt_clf = DecisionTreeClassifier() #객체 하나 생성"
   ]
  },
  {
   "cell_type": "code",
   "execution_count": 6,
   "metadata": {},
   "outputs": [],
   "source": [
    "# 파라미터는 max_depth와 min_samples_leaf를 변화시켜 학습하고\n",
    "parameters = {\n",
    "    'max_depth': [2, 3, 4],\n",
    "    'min_samples_leaf': [1, 2, 3]\n",
    "}"
   ]
  },
  {
   "cell_type": "code",
   "execution_count": 7,
   "metadata": {},
   "outputs": [],
   "source": [
    "# GridSearchCV를 사용하여 학습\n",
    "from sklearn.model_selection import GridSearchCV\n",
    "grid_dtree = GridSearchCV(dt_clf, param_grid=parameters, cv=5, scoring='accuracy', # accuracy:정확도\n",
    "refit=True)"
   ]
  },
  {
   "cell_type": "code",
   "execution_count": 8,
   "metadata": {},
   "outputs": [
    {
     "output_type": "execute_result",
     "data": {
      "text/plain": [
       "GridSearchCV(cv=5, estimator=DecisionTreeClassifier(),\n",
       "             param_grid={'max_depth': [2, 3, 4], 'min_samples_leaf': [1, 2, 3]},\n",
       "             scoring='accuracy')"
      ]
     },
     "metadata": {},
     "execution_count": 8
    }
   ],
   "source": [
    "grid_dtree.fit(X_train, y_train)"
   ]
  },
  {
   "cell_type": "code",
   "execution_count": 9,
   "metadata": {},
   "outputs": [
    {
     "output_type": "stream",
     "name": "stdout",
     "text": [
      "GridSearchCV 최적 파라미터: {'max_depth': 3, 'min_samples_leaf': 3}\nGridSearchCv 최고 정확도: 0.9583\n"
     ]
    }
   ],
   "source": [
    "print('GridSearchCV 최적 파라미터:', grid_dtree.best_params_)\n",
    "print('GridSearchCv 최고 정확도: {0:.4f}'.format(grid_dtree.best_score_))"
   ]
  },
  {
   "cell_type": "code",
   "execution_count": 10,
   "metadata": {},
   "outputs": [],
   "source": [
    "# 테스트 데이터에 대해서 정확도를 측정\n",
    "estimator = grid_dtree.best_estimator_\n",
    "pred = estimator.predict(X_test)"
   ]
  },
  {
   "cell_type": "code",
   "execution_count": 11,
   "metadata": {},
   "outputs": [
    {
     "output_type": "execute_result",
     "data": {
      "text/plain": [
       "0.9333333333333333"
      ]
     },
     "metadata": {},
     "execution_count": 11
    }
   ],
   "source": [
    "from sklearn.metrics import accuracy_score\n",
    "accuracy_score(y_test, pred)"
   ]
  },
  {
   "cell_type": "code",
   "execution_count": null,
   "metadata": {},
   "outputs": [],
   "source": []
  }
 ]
}