{
 "metadata": {
  "language_info": {
   "codemirror_mode": {
    "name": "ipython",
    "version": 3
   },
   "file_extension": ".py",
   "mimetype": "text/x-python",
   "name": "python",
   "nbconvert_exporter": "python",
   "pygments_lexer": "ipython3",
   "version": "3.8.3-final"
  },
  "orig_nbformat": 2,
  "kernelspec": {
   "name": "python3",
   "display_name": "Python 3",
   "language": "python"
  }
 },
 "nbformat": 4,
 "nbformat_minor": 2,
 "cells": [
  {
   "source": [
    "# 카카오 번역기"
   ],
   "cell_type": "markdown",
   "metadata": {}
  },
  {
   "cell_type": "code",
   "execution_count": 1,
   "metadata": {},
   "outputs": [],
   "source": [
    "import requests\n",
    "from urllib.parse import quote"
   ]
  },
  {
   "cell_type": "code",
   "execution_count": 2,
   "metadata": {},
   "outputs": [],
   "source": [
    "with open('keys/kakaoaikey.txt') as kfile:\n",
    "    kai_key = kfile.read(100)"
   ]
  },
  {
   "cell_type": "code",
   "execution_count": 3,
   "metadata": {},
   "outputs": [],
   "source": [
    "text = '이 문서는 카카오 번역 API 사용 방법을 설명합니다.'"
   ]
  },
  {
   "cell_type": "code",
   "execution_count": 4,
   "metadata": {},
   "outputs": [],
   "source": [
    "url = 'https://dapi.kakao.com/v2/translation/translate?query='+quote(text)+'&src_lang=kr&target_lang=en'"
   ]
  },
  {
   "cell_type": "code",
   "execution_count": 5,
   "metadata": {},
   "outputs": [
    {
     "output_type": "execute_result",
     "data": {
      "text/plain": [
       "{'translated_text': [['This document describes how to use the Kakao translation API.']]}"
      ]
     },
     "metadata": {},
     "execution_count": 5
    }
   ],
   "source": [
    "result = requests.get(url, headers={\"Authorization\": \"KakaoAK \"+kai_key}).json()\n",
    "result"
   ]
  },
  {
   "cell_type": "code",
   "execution_count": 6,
   "metadata": {},
   "outputs": [
    {
     "output_type": "execute_result",
     "data": {
      "text/plain": [
       "'This document describes how to use the Kakao translation API.'"
      ]
     },
     "metadata": {},
     "execution_count": 6
    }
   ],
   "source": [
    "eng_text = result['translated_text'][0][0]\n",
    "eng_text"
   ]
  },
  {
   "cell_type": "code",
   "execution_count": 7,
   "metadata": {},
   "outputs": [],
   "source": [
    "def generate_url(text, src, dst):\n",
    "    return f'https://dapi.kakao.com/v2/translation/translate?query={quote(text)}&src_lang={src}&target_lang={dst}'"
   ]
  },
  {
   "source": [
    "영어 --> 한글"
   ],
   "cell_type": "markdown",
   "metadata": {}
  },
  {
   "cell_type": "code",
   "execution_count": 8,
   "metadata": {},
   "outputs": [
    {
     "output_type": "execute_result",
     "data": {
      "text/plain": [
       "{'translated_text': [['이 문서는 카카오 번역 API 사용 방법에 대해 설명합니다.']]}"
      ]
     },
     "metadata": {},
     "execution_count": 8
    }
   ],
   "source": [
    "result = requests.get(generate_url(eng_text, 'en', 'kr'), \n",
    "            headers={\"Authorization\": \"KakaoAK \"+ kai_key}).json()\n",
    "result"
   ]
  },
  {
   "cell_type": "code",
   "execution_count": 9,
   "metadata": {},
   "outputs": [
    {
     "output_type": "execute_result",
     "data": {
      "text/plain": [
       "'이 문서는 카카오 번역 API 사용 방법에 대해 설명합니다.'"
      ]
     },
     "metadata": {},
     "execution_count": 9
    }
   ],
   "source": [
    "kor_text = result['translated_text'][0][0]\n",
    "kor_text"
   ]
  },
  {
   "source": [
    "한글 --> 일본어"
   ],
   "cell_type": "markdown",
   "metadata": {}
  },
  {
   "cell_type": "code",
   "execution_count": 10,
   "metadata": {},
   "outputs": [
    {
     "output_type": "execute_result",
     "data": {
      "text/plain": [
       "'カカオ輸送APIの利用は、この文書のデスクリーブを意味します。'"
      ]
     },
     "metadata": {},
     "execution_count": 10
    }
   ],
   "source": [
    "result = requests.get(generate_url(eng_text, 'kr', 'jp'), headers={\"Authorization\": \"KakaoAK \"+kai_key}).json()\n",
    "jpn_text = result['translated_text'][0][0]\n",
    "jpn_text"
   ]
  },
  {
   "source": [
    "한글 --> 중국어"
   ],
   "cell_type": "markdown",
   "metadata": {}
  },
  {
   "cell_type": "code",
   "execution_count": 11,
   "metadata": {},
   "outputs": [
    {
     "output_type": "execute_result",
     "data": {
      "text/plain": [
       "'用Kakao传输API的文件描述。'"
      ]
     },
     "metadata": {},
     "execution_count": 11
    }
   ],
   "source": [
    "result = requests.get(generate_url(eng_text, 'kr', 'cn'), headers={\"Authorization\": \"KakaoAK \"+kai_key}).json()\n",
    "chn_text = result['translated_text'][0][0]\n",
    "chn_text"
   ]
  },
  {
   "source": [
    "###  한글 여러문장 -> 영어"
   ],
   "cell_type": "markdown",
   "metadata": {}
  },
  {
   "cell_type": "code",
   "execution_count": 15,
   "metadata": {},
   "outputs": [],
   "source": [
    "text = \"\"\"네이버 클라우드 플랫폼에서는 Clova, papago 등 네이버의 다양한 인공지능 서비스를 API 형태로 제공합니다. \n",
    "고객은 네이버의 인공지능 서비스를 활용하여,\n",
    "최신 기술 기반의 AI 서비스를 구축하고 안정적으로 운영할 수 있습니다..\"\"\"\n",
    "\n",
    "result = requests.get(generate_url(text, 'kr', 'en'),\n",
    "            headers={\"Authorization\": \"KakaoAK \"+kai_key}).json()\n",
    "eng_text = result['translated_text']"
   ]
  },
  {
   "cell_type": "code",
   "execution_count": 16,
   "metadata": {},
   "outputs": [
    {
     "output_type": "execute_result",
     "data": {
      "text/plain": [
       "[['Naver Cloud Platform provides various artificial intelligence services such as Clova and papago in API form.'],\n",
       " [\"Customers use Naver's AI service,\"],\n",
       " ['Build and operate the latest technology-based AI services.']]"
      ]
     },
     "metadata": {},
     "execution_count": 16
    }
   ],
   "source": [
    "eng_text"
   ]
  },
  {
   "cell_type": "code",
   "execution_count": 17,
   "metadata": {},
   "outputs": [
    {
     "output_type": "stream",
     "name": "stdout",
     "text": [
      "Naver Cloud Platform provides various artificial intelligence services such as Clova and papago in API form.\nCustomers use Naver's AI service,\nBuild and operate the latest technology-based AI services.\n"
     ]
    }
   ],
   "source": [
    "for nested_element in eng_text:\n",
    "    print(nested_element[0])"
   ]
  },
  {
   "cell_type": "code",
   "execution_count": null,
   "metadata": {},
   "outputs": [],
   "source": []
  }
 ]
}